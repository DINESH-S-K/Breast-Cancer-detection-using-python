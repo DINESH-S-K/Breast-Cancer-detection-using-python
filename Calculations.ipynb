{
 "cells": [
  {
   "cell_type": "code",
   "execution_count": 2,
   "metadata": {},
   "outputs": [],
   "source": [
    "import numpy as np\n",
    "import cv2\n",
    "import matplotlib.pyplot as plt"
   ]
  },
  {
   "cell_type": "code",
   "execution_count": 2,
   "metadata": {},
   "outputs": [],
   "source": [
    "kernel1 = np.array([[0.43719608, 0.70202315, 0.4444901],\n",
    "\n",
    "                    [0.46958 , 0.08807961, 0.83101636],\n",
    "\n",
    "                    [0.96853405, 0.4169272 , 0.5999559]])\n"
   ]
  },
  {
   "cell_type": "code",
   "execution_count": 3,
   "metadata": {},
   "outputs": [
    {
     "data": {
      "text/plain": [
       "(3, 3)"
      ]
     },
     "execution_count": 3,
     "metadata": {},
     "output_type": "execute_result"
    }
   ],
   "source": [
    "kernel1.shape"
   ]
  },
  {
   "cell_type": "code",
   "execution_count": 16,
   "metadata": {},
   "outputs": [
    {
     "data": {
      "text/plain": [
       "True"
      ]
     },
     "execution_count": 16,
     "metadata": {},
     "output_type": "execute_result"
    }
   ],
   "source": [
    "kernel2 = np.array([[0.42089933],\n",
    "  [0.30614805],\n",
    "  [0.48108655],\n",
    "\n",
    " [0.44783658],\n",
    "  [0.33110785],\n",
    "  [0.7673952 ],\n",
    "\n",
    " [0.51875657],\n",
    "  [0.8824891 ],\n",
    "  [0.7823843 ]])\n"
   ]
  },
  {
   "cell_type": "code",
   "execution_count": 3,
   "metadata": {},
   "outputs": [
    {
     "name": "stdout",
     "output_type": "stream",
     "text": [
      "[[153 172 186 ... 180 191 186]\n",
      " [175 189 196 ... 177 194 188]\n",
      " [168 169 170 ... 169 187 186]\n",
      " ...\n",
      " [157 176 164 ... 171 157 172]\n",
      " [137 142 131 ... 177 147 170]\n",
      " [174 137 117 ... 172 140 164]]\n"
     ]
    }
   ],
   "source": [
    "img_path = \"Data1/Test/Benign/0 (1).png\"\n",
    "img= cv2.imread(img_path,0)\n",
    "img = cv2.resize(img,(224,224))\n",
    "print(img)\n"
   ]
  },
  {
   "cell_type": "code",
   "execution_count": 5,
   "metadata": {},
   "outputs": [
    {
     "name": "stdout",
     "output_type": "stream",
     "text": [
      "[[0.00235294 0.00264514 0.00286044 ... 0.00276817 0.00293733 0.00286044]\n",
      " [0.00269127 0.00290657 0.00301423 ... 0.00272203 0.00298347 0.0028912 ]\n",
      " [0.00258362 0.002599   0.00261438 ... 0.002599   0.00287582 0.00286044]\n",
      " ...\n",
      " [0.00241446 0.00270665 0.00252211 ... 0.00262976 0.00241446 0.00264514]\n",
      " [0.00210688 0.00218378 0.00201461 ... 0.00272203 0.00226067 0.00261438]\n",
      " [0.00267589 0.00210688 0.00179931 ... 0.00264514 0.00215302 0.00252211]]\n"
     ]
    },
    {
     "data": {
      "text/plain": [
       "True"
      ]
     },
     "execution_count": 5,
     "metadata": {},
     "output_type": "execute_result"
    }
   ],
   "source": [
    "img = img/ 255\n",
    "print(img)\n",
    "cv2.imwrite(\"resul.png\",img)"
   ]
  },
  {
   "cell_type": "code",
   "execution_count": 13,
   "metadata": {},
   "outputs": [
    {
     "name": "stdout",
     "output_type": "stream",
     "text": [
      "[[3.40838189 3.51779107 3.51230799 ... 3.62573402 3.59008155 3.55090229]\n",
      " [3.39763696 3.50268532 3.51028718 ... 3.63027969 3.64374069 3.57856179]\n",
      " [3.37738401 3.49076769 3.51101591 ... 3.58295172 3.6690985  3.57928718]\n",
      " ...\n",
      " [3.33540365 3.27713095 3.15356353 ... 3.21341396 2.82448527 3.1496586 ]\n",
      " [3.4400234  3.32947915 3.19913972 ... 3.22321492 2.87989544 3.20386506]\n",
      " [3.50238058 3.31741495 3.26747265 ... 3.20983283 2.85279589 3.20246373]]\n"
     ]
    }
   ],
   "source": [
    "x = cv2.filter2D(src=img, ddepth=-1, kernel=kernel2,)\n",
    "print(x)"
   ]
  },
  {
   "cell_type": "code",
   "execution_count": 14,
   "metadata": {},
   "outputs": [],
   "source": [
    "x = x -  x.mean()\n",
    "x /= x.std ()\n",
    "x *=  64\n",
    "x += 128\n",
    "x  = np.clip(x, 0, 255)"
   ]
  },
  {
   "cell_type": "code",
   "execution_count": 15,
   "metadata": {},
   "outputs": [
    {
     "data": {
      "text/plain": [
       "True"
      ]
     },
     "execution_count": 15,
     "metadata": {},
     "output_type": "execute_result"
    }
   ],
   "source": [
    "cv2.imwrite(\"result.png\",x)"
   ]
  },
  {
   "cell_type": "code",
   "execution_count": null,
   "metadata": {},
   "outputs": [],
   "source": []
  }
 ],
 "metadata": {
  "kernelspec": {
   "display_name": "Python 3",
   "language": "python",
   "name": "python3"
  },
  "language_info": {
   "codemirror_mode": {
    "name": "ipython",
    "version": 3
   },
   "file_extension": ".py",
   "mimetype": "text/x-python",
   "name": "python",
   "nbconvert_exporter": "python",
   "pygments_lexer": "ipython3",
   "version": "3.8.8"
  }
 },
 "nbformat": 4,
 "nbformat_minor": 4
}
