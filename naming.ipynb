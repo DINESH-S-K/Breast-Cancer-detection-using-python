{
 "cells": [
  {
   "cell_type": "code",
   "execution_count": null,
   "id": "b775f4fc",
   "metadata": {},
   "outputs": [],
   "source": []
  },
  {
   "cell_type": "code",
   "execution_count": null,
   "id": "9a19bdfd",
   "metadata": {},
   "outputs": [],
   "source": [
    "l=[]\n",
    "for file in os.listdir(f\"Prediction_data/\"):\n",
    "    l.append(file)\n",
    "\n",
    "def run_app(img_path):\n",
    "    image = cv2.imread(img_path,0)\n",
    "    image = cv2.resize(image,(224,224))\n",
    "    x = np.array(image).reshape(-1,224,224,1)\n",
    "    prediction = model.predict_classes(x)\n",
    "    return prediction[0][0]\n",
    "    \n",
    "w=60\n",
    "h=40\n",
    "fig=plt.figure(figsize=(20, 20))\n",
    "columns =6\n",
    "rows = 1\n",
    "\n",
    "for i in range(1, columns*rows +1):\n",
    "    ax = fig.add_subplot(rows, columns, i)\n",
    "    pred = run_app(l[i])\n",
    "    if pred == 0:\n",
    "        #benign\n",
    "        text = \"label: Benign \" + str(pred)\n",
    "        ax.title.set_text(text)\n",
    "    else:\n",
    "        #malignant\n",
    "        text = \"label: Malignant \"+ str(pred)\n",
    "        ax.title.set_text(text)\n",
    "    img = cv2.imread(l[i])\n",
    "    img = cv2.cvtColor(img, cv2.COLOR_BGR2RGB)\n",
    "    plt.imshow(img)\n",
    "plt.show()"
   ]
  },
  {
   "cell_type": "code",
   "execution_count": null,
   "id": "61bfd182",
   "metadata": {},
   "outputs": [],
   "source": [
    "w=60\n",
    "h=40\n",
    "fig=plt.figure(figsize=(20, 20))\n",
    "columns =6\n",
    "rows = 1\n",
    "for i in range(1, columns*rows +1):\n",
    "    ax = fig.add_subplot(rows, columns, i)\n",
    "    ax.title.set_text(\"Unknown \" + str(i))\n",
    "    img = cv2.imread(l[i])\n",
    "    img = cv2.cvtColor(img, cv2.COLOR_BGR2RGB)\n",
    "    plt.imshow(img)\n",
    "plt.show()"
   ]
  }
 ],
 "metadata": {
  "kernelspec": {
   "display_name": "Python 3",
   "language": "python",
   "name": "python3"
  },
  "language_info": {
   "codemirror_mode": {
    "name": "ipython",
    "version": 3
   },
   "file_extension": ".py",
   "mimetype": "text/x-python",
   "name": "python",
   "nbconvert_exporter": "python",
   "pygments_lexer": "ipython3",
   "version": "3.8.8"
  }
 },
 "nbformat": 4,
 "nbformat_minor": 5
}
